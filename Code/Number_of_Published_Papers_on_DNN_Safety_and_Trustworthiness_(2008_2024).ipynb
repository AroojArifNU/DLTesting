{
  "nbformat": 4,
  "nbformat_minor": 0,
  "metadata": {
    "colab": {
      "provenance": [],
      "authorship_tag": "ABX9TyNIyO9hYhhIfPdKMDrSXmTC",
      "include_colab_link": true
    },
    "kernelspec": {
      "name": "python3",
      "display_name": "Python 3"
    },
    "language_info": {
      "name": "python"
    }
  },
  "cells": [
    {
      "cell_type": "markdown",
      "metadata": {
        "id": "view-in-github",
        "colab_type": "text"
      },
      "source": [
        "<a href=\"https://colab.research.google.com/github/AroojArifNU/DLTesting/blob/main/Code/Number_of_Published_Papers_on_DNN_Safety_and_Trustworthiness_(2008_2024).ipynb\" target=\"_parent\"><img src=\"https://colab.research.google.com/assets/colab-badge.svg\" alt=\"Open In Colab\"/></a>"
      ]
    },
    {
      "cell_type": "code",
      "source": [
        "pip install requests\n"
      ],
      "metadata": {
        "id": "9hbUCe1KhqOQ"
      },
      "execution_count": null,
      "outputs": []
    },
    {
      "cell_type": "code",
      "execution_count": null,
      "metadata": {
        "id": "IdrnNy38hks3"
      },
      "outputs": [],
      "source": [
        "import requests\n",
        "import matplotlib.pyplot as plt\n",
        "\n",
        "# List of keywords for a comprehensive search\n",
        "keywords = [\n",
        "    \"deep neural network safety\",\n",
        "    \"DNN verification\",\n",
        "    \"DNN testing\",\n",
        "    \"deep learning robustness\",\n",
        "    \"neural network adversarial attacks\",\n",
        "    \"DNN defense mechanisms\",\n",
        "    \"DNN interpretability\",\n",
        "    \"deep learning certification\",\n",
        "    \"neural network validation\",\n",
        "    \"machine learning security\"\n",
        "]\n",
        "\n",
        "# Function to perform the search query for each keyword and year, and count results\n",
        "def get_paper_counts_crossref(keywords, start_year, end_year):\n",
        "    results = {year: 0 for year in range(start_year, end_year + 1)}\n",
        "    for keyword in keywords:\n",
        "        for year in range(start_year, end_year + 1):\n",
        "            try:\n",
        "                url = f\"https://api.crossref.org/works?filter=from-pub-date:{year}-01-01,until-pub-date:{year}-12-31&query={keyword}&rows=0\"\n",
        "                response = requests.get(url)\n",
        "                data = response.json()\n",
        "\n",
        "                # Check if the response contains the expected data\n",
        "                if 'message' in data and 'total-results' in data['message']:\n",
        "                    results[year] += data['message']['total-results']\n",
        "                else:\n",
        "                    print(f\"Unexpected response structure for keyword '{keyword}' year {year}: {data}\")\n",
        "            except Exception as e:\n",
        "                print(f\"Error fetching data for keyword '{keyword}' year {year}: {e}\")\n",
        "    return results\n",
        "\n",
        "# Perform the search query for the list of keywords from 2008 to 2024\n",
        "start_year = 2008\n",
        "end_year = 2024\n",
        "paper_counts = get_paper_counts_crossref(keywords, start_year, end_year)\n",
        "\n",
        "# Print the number of papers found for each year\n",
        "for year, count in paper_counts.items():\n",
        "    print(f\"Year: {year}, Number of papers: {count}\")\n",
        "\n",
        "# Save the results to a file (optional)\n",
        "with open('dnn_safety_paper_counts.txt', 'w') as file:\n",
        "    for year, count in paper_counts.items():\n",
        "        file.write(f\"Year: {year}, Number of papers: {count}\\n\")\n",
        "\n",
        "# Plot the results\n",
        "years = list(paper_counts.keys())\n",
        "counts = list(paper_counts.values())\n",
        "\n",
        "plt.figure(figsize=(10, 6))\n",
        "plt.plot(years, counts, marker='o', linestyle='-', color='b', label='Number of Papers')\n",
        "plt.xlabel('Year')\n",
        "plt.ylabel('Number of Papers')\n",
        "plt.title('Number of Published Papers on DNN Safety and Trustworthiness (2008-2024)')\n",
        "plt.legend()\n",
        "plt.grid(True)\n",
        "plt.show()\n"
      ]
    }
  ]
}